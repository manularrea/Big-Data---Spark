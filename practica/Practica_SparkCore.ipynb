{
  "nbformat": 4,
  "nbformat_minor": 0,
  "metadata": {
    "colab": {
      "provenance": [],
      "authorship_tag": "ABX9TyNLdAwbuQJigy1XS/nHUfkp",
      "include_colab_link": true
    },
    "kernelspec": {
      "name": "python3",
      "display_name": "Python 3"
    },
    "language_info": {
      "name": "python"
    }
  },
  "cells": [
    {
      "cell_type": "markdown",
      "metadata": {
        "id": "view-in-github",
        "colab_type": "text"
      },
      "source": [
        "<a href=\"https://colab.research.google.com/github/manularrea/Spark/blob/main/practica/Practica_SparkCore.ipynb\" target=\"_parent\"><img src=\"https://colab.research.google.com/assets/colab-badge.svg\" alt=\"Open In Colab\"/></a>"
      ]
    },
    {
      "cell_type": "markdown",
      "source": [
        "\n",
        "**Nombre:** Manuela <br>\n",
        "**Apellidos:** Larrea Gómez\n",
        "# Ejercicio 1 – Spark Core (6 puntos)\n",
        "<hr>\n",
        "<P>\n",
        "Haciendo uso de Spark Core, resuelve las 8 consultas siguientes (0,75 puntos por\n",
        "consulta). En principio, las consultas no siguen ningún orden específico de dificultad </P>\n",
        "\n",
        "## Requerimientos del sistema\n",
        "\n",
        "* Versión de Python: 3.11.4 o superior\n"
      ],
      "metadata": {
        "id": "7zbAD7HcKbF_"
      }
    },
    {
      "cell_type": "markdown",
      "source": [
        "## Configuración de ambiente de Spark"
      ],
      "metadata": {
        "id": "JLw2ZDBAKiYu"
      }
    },
    {
      "cell_type": "code",
      "execution_count": 2,
      "metadata": {
        "id": "eI7QClC6KPSN",
        "colab": {
          "base_uri": "https://localhost:8080/"
        },
        "outputId": "15ae8e11-7f82-404a-e9ef-702fe7eea6f8"
      },
      "outputs": [
        {
          "output_type": "stream",
          "name": "stdout",
          "text": [
            "Spark setup finished!\n"
          ]
        }
      ],
      "source": [
        "from pathlib import Path\n",
        "\n",
        "installation_folder = Path(\"/content/spark-3.5.0-bin-hadoop3\")\n",
        "\n",
        "if not installation_folder.exists():\n",
        "\n",
        "  # Install Java locally\n",
        "  !apt-get install openjdk-8-jdk-headless -qq > /dev/null\n",
        "\n",
        "  # Download & decompress Spark\n",
        "  !wget -q https://dlcdn.apache.org/spark/spark-3.5.0/spark-3.5.0-bin-hadoop3.tgz -O spark-3.5.0-bin-hadoop3.tgz\n",
        "  !tar xf spark-3.5.0-bin-hadoop3.tgz\n",
        "\n",
        "  # Install finspark\n",
        "  %pip install -q findspark\n",
        "\n",
        "  # Setup required environment variables\n",
        "  import os\n",
        "  os.environ[\"JAVA_HOME\"] = \"/usr/lib/jvm/java-8-openjdk-amd64\"\n",
        "  os.environ[\"SPARK_HOME\"] = \"/content/spark-3.5.0-bin-hadoop3\"\n",
        "\n",
        "  print(\"Spark setup finished!\")\n",
        "\n",
        "else:\n",
        "  print(\"Skipping Spark setup\")"
      ]
    },
    {
      "cell_type": "markdown",
      "source": [
        "## Preparar el contexto de Spark"
      ],
      "metadata": {
        "id": "GYLyyW8qLrxc"
      }
    },
    {
      "cell_type": "code",
      "source": [
        "# Import findpsark\n",
        "import findspark\n",
        "\n",
        "# Configure the environment\n",
        "findspark.init()\n",
        "\n",
        "# Import the Spark components required for the context creation\n",
        "from pyspark import SparkConf, SparkContext\n",
        "\n",
        "# Configure and create the context\n",
        "conf = SparkConf()\n",
        "conf = conf.setAppName('mds-session')\n",
        "conf = conf.setMaster('local[*]')\n",
        "sc = SparkContext.getOrCreate(conf=conf)"
      ],
      "metadata": {
        "id": "4JfWLf3GLwXK"
      },
      "execution_count": 3,
      "outputs": []
    },
    {
      "cell_type": "markdown",
      "source": [
        "## Importación de la data y librerías complementarias"
      ],
      "metadata": {
        "id": "9efWqMA2T1s-"
      }
    },
    {
      "cell_type": "code",
      "source": [
        "import re"
      ],
      "metadata": {
        "id": "SKl3Jtyym_9t"
      },
      "execution_count": 4,
      "outputs": []
    },
    {
      "cell_type": "code",
      "source": [
        "albums = sc.textFile('./data/albums.tsv')\n",
        "artists = sc.textFile('./data/artists.tsv')\n",
        "songs = sc.textFile('./data/songs.tsv')\n"
      ],
      "metadata": {
        "id": "qVtjnRGiT0cq"
      },
      "execution_count": 86,
      "outputs": []
    },
    {
      "cell_type": "code",
      "source": [
        "def splitLine(line):\n",
        "    return line.split('\\t')\n"
      ],
      "metadata": {
        "id": "uV6bMrtCXpyu"
      },
      "execution_count": 145,
      "outputs": []
    },
    {
      "cell_type": "code",
      "source": [
        "albums = albums.map(splitLine)\n",
        "artists = artists.map(splitLine)\n",
        "songs = songs.map(splitLine)"
      ],
      "metadata": {
        "id": "j5RTG3cSXqRP"
      },
      "execution_count": 146,
      "outputs": []
    },
    {
      "cell_type": "markdown",
      "source": [
        "![image.png](data:image/png;base64,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)\n"
      ],
      "metadata": {
        "id": "wIwYGQ_5tLG8"
      }
    },
    {
      "cell_type": "markdown",
      "source": [
        "## 1.  ¿Cuál es el estilo más lento *(tempo)* en media?"
      ],
      "metadata": {
        "id": "k09TwqxYLcl8"
      }
    },
    {
      "cell_type": "code",
      "source": [
        "'''\n",
        "Descripción: Esta función analiza una línea de datos de texto formateado y extrae el estilo de la canción y el tempo.\n",
        "Parámetros:\n",
        "line (str): La línea de datos de texto formateado a analizar.\n",
        "Devuelve:\n",
        "Una tupla que contiene el estilo de la canción y una tupla que representa el tempo. En esta segunda tupla, el número 1 representa el número de\n",
        "repeticiones del estilo (Util para la función Reduce que se utilizará más adelante)\n",
        "'''\n",
        "\n",
        "def getSongStyle(line):\n",
        "  style = line[14]\n",
        "  tempo = float(line[9])\n",
        "  return (style, (1, tempo))\n",
        "\n",
        "song_styles= songs.map(getSongStyle)"
      ],
      "metadata": {
        "id": "V5HEu4pVLmH_"
      },
      "execution_count": 150,
      "outputs": []
    },
    {
      "cell_type": "code",
      "source": [
        "# Obtiene el recuento total de cada estilo de canción y el tempo total\n",
        "style_sum_rdd = song_styles.reduceByKey(lambda conteo , tempo: (conteo[0] + tempo[0], conteo[1] + tempo[1]))"
      ],
      "metadata": {
        "id": "sSfFLvpmW1jC"
      },
      "execution_count": 151,
      "outputs": []
    },
    {
      "cell_type": "code",
      "source": [
        "#Cálculo de la media del tempo por estilo (songs[0]: Estilo, songs [1][1]: Tempo total por ese estilo, songs[1][0]: Conteo total de repeticiones de dicho estilo )\n",
        "media_style_tempo = style_sum_rdd.map(lambda songs: (songs[0], songs[1][1] / songs[1][0] if songs[1][0] != 0 else 0))\n"
      ],
      "metadata": {
        "id": "UQ78MK5Vf7uu"
      },
      "execution_count": 152,
      "outputs": []
    },
    {
      "cell_type": "code",
      "source": [
        "# Devuelve el estilo con el tempo más bajo utilizando la operación min() de Python..\n",
        "slowest_tempo_style = min(media_style_tempo.toLocalIterator(), key=lambda s: s[1])\n",
        "print(f'El estilo con el tempo más bajo es {slowest_tempo_style[0]}, con un tempo promedio de {slowest_tempo_style[1]} BPM.')"
      ],
      "metadata": {
        "id": "aNDkYP6_Nwku",
        "colab": {
          "base_uri": "https://localhost:8080/"
        },
        "outputId": "48eab6ee-6b84-4b39-8b64-8c2bbf8d5c33"
      },
      "execution_count": 153,
      "outputs": [
        {
          "output_type": "stream",
          "name": "stdout",
          "text": [
            "El estilo con el tempo más bajo es rebetika, con un tempo promedio de 47.447 BPM.\n"
          ]
        }
      ]
    },
    {
      "cell_type": "markdown",
      "source": [
        "## 2. ¿Cuales son los 5 artistas, ubicados en UK (cualquier territorio de UK), con mayor número de canciones en escala menor (mode = 1)?"
      ],
      "metadata": {
        "id": "58LaWSdUTIPE"
      }
    },
    {
      "cell_type": "code",
      "source": [
        "def getArtistsLocation(line):\n",
        "  artist_id = line[0]\n",
        "  artist_name = line[1]\n",
        "  artist_location = line[4]\n",
        "  return (artist_location, (artist_id, artist_name))\n",
        "\n",
        "artists_location= artists.map(getArtistsLocation)"
      ],
      "metadata": {
        "id": "84mWJ4xuTyoL"
      },
      "execution_count": 154,
      "outputs": []
    },
    {
      "cell_type": "code",
      "source": [
        "# Se crea la función filterUKArtists, que a través del uso de regex, filtra el dataset para obtener los artistas ubicados en el UK.\n",
        "def filterUKArtists(artist_info):\n",
        "    artist_location = artist_info[0]\n",
        "    artist_id = artist_info[1][0]\n",
        "    artist_name = artist_info[1][1]\n",
        "\n",
        "    # Se crea una expresión regular con los nombres de los países del reino unido y algunas principales ciudades/zonas.\n",
        "    uk_regex = re.compile(r'\\b(?:united kingdom|uk|england|scotland|wales|northern ireland|london|edinburgh|cardiff|belfast|birmingham|manchester|liverpool)\\b', re.IGNORECASE)\n",
        "\n",
        "    # Check if the location matches the regex\n",
        "    if uk_regex.search(artist_location):\n",
        "        return (artist_id, artist_name, artist_location)\n",
        "    return None\n",
        "\n",
        "#Se obtienen los artistas junto con su ubicación\n",
        "artists_rdd = artists.map(getArtistsLocation)\n",
        "\n",
        "# Se filtra el rdd de artistas para obtener aquellos que cumplan la expresión regular definida en la función filterUKArtists.\n",
        "uk_artists = artists_rdd.map(filterUKArtists).filter(lambda x: x is not None)\n"
      ],
      "metadata": {
        "id": "5xEiEry_M3_x"
      },
      "execution_count": 155,
      "outputs": []
    },
    {
      "cell_type": "code",
      "source": [
        "# Función para obtener los modos de las canciones y el ID del artista\n",
        "def getSongsMode(line):\n",
        "    artist_id = line[4]\n",
        "    song_mode = int(line[13])\n",
        "    return (artist_id, song_mode)\n",
        "\n",
        "songs_rdd = songs.map(getSongsMode)"
      ],
      "metadata": {
        "id": "BLxeWt1ap8t-"
      },
      "execution_count": 159,
      "outputs": []
    },
    {
      "cell_type": "code",
      "source": [
        "# Unificamos el rdd que contiene los artistas de UK y sus canciones.\n",
        "uk_artists_and_songs = uk_artists.join(songs_rdd)"
      ],
      "metadata": {
        "id": "t1drRDtmrz_T"
      },
      "execution_count": 160,
      "outputs": []
    },
    {
      "cell_type": "code",
      "source": [
        "# Filtramos el rdd para obtener únicamente las canciones en escala menor\n",
        "minor_songs = uk_artists_and_songs.filter(lambda songs: songs[1][1] == 1)"
      ],
      "metadata": {
        "id": "Oy0-68l42DVb"
      },
      "execution_count": 161,
      "outputs": []
    },
    {
      "cell_type": "code",
      "source": [
        "# Se realiza el mapeo del nombre del artista\n",
        "song_counts_rdd = minor_songs.map(lambda songs: (songs[1][0], 1)).reduceByKey(lambda elemento1, elemento2: elemento1 + elemento2)"
      ],
      "metadata": {
        "id": "gV6jpg-92H3H"
      },
      "execution_count": 162,
      "outputs": []
    },
    {
      "cell_type": "code",
      "source": [
        "# Crea una lista con los primeros 5 elementos del rdd song_counts_rdd\n",
        "top_5_artists = song_counts_rdd.takeOrdered(5, key=lambda songs: -songs[1])"
      ],
      "metadata": {
        "id": "_2Foblx73RBL"
      },
      "execution_count": 163,
      "outputs": []
    },
    {
      "cell_type": "code",
      "source": [
        "print('Los 5 artistas, ubicados en el UK, con mayor número de canciones en escala menor son los siguientes:')\n",
        "for i in range(0,5):\n",
        "  print(f'\\xa0 {i+1}. {top_5_artists[i][0]}, con {top_5_artists[i][1]} canciones')\n"
      ],
      "metadata": {
        "id": "OcwnrRce3VQl",
        "colab": {
          "base_uri": "https://localhost:8080/"
        },
        "outputId": "b87e35aa-1be5-40f5-b7b2-8d8ebefaddc5"
      },
      "execution_count": 165,
      "outputs": [
        {
          "output_type": "stream",
          "name": "stdout",
          "text": [
            "Los 5 artistas, ubicados en el UK, con mayor número de canciones en escala menor son los siguientes:\n",
            "  1. SNOWPATROL, con 11 canciones\n",
            "  2. Phil Collins, con 9 canciones\n",
            "  3. The Rolling Stones, con 7 canciones\n",
            "  4. Radiohead, con 7 canciones\n",
            "  5. Seal, con 6 canciones\n"
          ]
        }
      ]
    },
    {
      "cell_type": "markdown",
      "source": [
        "## 3. Desde 1970 hasta hoy, ¿las canciones son más rápidas (tempo), altas (loudness) y cortas (duration) en media? Ordena los resultados por año ascendente."
      ],
      "metadata": {
        "id": "SRxycj-rAtF0"
      }
    },
    {
      "cell_type": "code",
      "source": [
        "def getSongsInfo(line):\n",
        "  datetime = int(line[2])\n",
        "  tempo = float(line[9])\n",
        "  loudness = float(line[11])\n",
        "  duration = float(line[6])\n",
        "\n",
        "  return (datetime, (tempo, loudness, duration))\n"
      ],
      "metadata": {
        "id": "5Pd4x7jVAr4Y"
      },
      "execution_count": 169,
      "outputs": []
    },
    {
      "cell_type": "code",
      "source": [
        "songs_time = songs.map(getSongsInfo)"
      ],
      "metadata": {
        "id": "872OHIfJEOSZ"
      },
      "execution_count": 170,
      "outputs": []
    },
    {
      "cell_type": "code",
      "source": [
        "# Se filtra la información de las canciones para obtener únicamente aquellas cuyo año es => 1970 y posteriormente se organizan\n",
        "songs_over_1970 = songs_time.filter(lambda songs: songs[0] >= 1970)\n",
        "songs_over_1970 = songs_over_1970.sortBy(lambda songs: songs[0])\n"
      ],
      "metadata": {
        "id": "LRPqZAo9EnWM"
      },
      "execution_count": 171,
      "outputs": []
    },
    {
      "cell_type": "code",
      "source": [
        "def getMean(rdd, index):\n",
        "    return (\n",
        "        rdd.map(lambda el: (el[0], (el[1][index], 1)))\n",
        "           .reduceByKey(lambda el1, el2: (el1[0] + el2[0], el1[1] + el2[1]))\n",
        "           .map(lambda el: (el[0], el[1][0] / el[1][1]))\n",
        "    )"
      ],
      "metadata": {
        "id": "8eDd4DnAcDtP"
      },
      "execution_count": 172,
      "outputs": []
    },
    {
      "cell_type": "code",
      "source": [
        "tempo = getMean(songs_over_1970, 0)\n",
        "loudness = getMean(songs_over_1970, 1)\n",
        "duration = getMean(songs_over_1970, 2)"
      ],
      "metadata": {
        "id": "AT0YFlIEf9Y6"
      },
      "execution_count": 173,
      "outputs": []
    },
    {
      "cell_type": "code",
      "source": [
        "song_info = tempo.join(loudness).join(duration).sortBy(lambda el: el[0])"
      ],
      "metadata": {
        "id": "UENiTdetf8uk"
      },
      "execution_count": 175,
      "outputs": []
    },
    {
      "cell_type": "code",
      "source": [
        "simplified_rdd = song_info.map(lambda x: (x[0], x[1][0][0], x[1][0][1], x[1][1])) #x[1][0][0]: Tempo, x[1][0][1]: Loudness, x[1][1]: Duration"
      ],
      "metadata": {
        "id": "pjoZOuVih-Ol"
      },
      "execution_count": 176,
      "outputs": []
    },
    {
      "cell_type": "code",
      "source": [
        "data = simplified_rdd.collect()"
      ],
      "metadata": {
        "id": "T7K8ZQIUie1j"
      },
      "execution_count": 177,
      "outputs": []
    },
    {
      "cell_type": "markdown",
      "source": [
        "A pesar de que collect es una acción muy costosa computacionalmente (dado que colecciona todos los elementos del rdd y los envía al driver), es necesaria dadas las características de la consulta.\n",
        "\n",
        "Para mitigar los recursos demandados por un .collect(), se realiza después realizar las acciones de filtrado y reducción del tamaño del rdd.\n",
        "\n",
        "Ahora bien, ya teniendo los datos en el driver y teniendo en cuenta que todo queda en manos de los recursos de RAM;  podremos hacer uso de herramientas de visualización (librería) para lograr identificar patrones temporales."
      ],
      "metadata": {
        "id": "pROeTNCcn_Yq"
      }
    },
    {
      "cell_type": "code",
      "source": [
        "from plotnine import ggplot, aes, geom_line, labs, annotate\n",
        "\n",
        "# Unpack data for plotting\n",
        "years, tempo, loudness, duration = zip(*data)\n",
        "\n",
        "# Create a plot using ggplot\n",
        "plt1 = (\n",
        "  ggplot()\n",
        "  + aes(x='years')\n",
        "  + geom_line(aes(y='tempo'), color='red', size=1, linetype='solid')\n",
        "  + geom_line(aes(y='loudness'), color='blue', size=1, linetype='solid')\n",
        "  + geom_line(aes(y='duration'), color='green', size=1, linetype='solid')\n",
        "  + labs(title='Line Plot with ggplot', y='Values', x='Year', color='Legend')\n",
        ")\n",
        "\n",
        "# Show the plot\n",
        "print(plt1)\n"
      ],
      "metadata": {
        "colab": {
          "base_uri": "https://localhost:8080/",
          "height": 514
        },
        "id": "y8_CLtj2imCM",
        "outputId": "e0c5b98c-aa4a-4c56-fe00-9d3d1a18a711"
      },
      "execution_count": 178,
      "outputs": [
        {
          "output_type": "display_data",
          "data": {
            "text/plain": [
              "<Figure size 640x480 with 1 Axes>"
            ],
            "image/png": "[encoded data removed]"
          },
          "metadata": {
            "image/png": {
              "width": 640,
              "height": 480
            }
          }
        },
        {
          "output_type": "stream",
          "name": "stdout",
          "text": [
            "\n"
          ]
        }
      ]
    },
    {
      "cell_type": "markdown",
      "source": [
        "## 4. ¿Cuál es el estilo que más abusa del efecto de fade out (mayor número de segundos entre el inicio del fade out y el final de la canción)?"
      ],
      "metadata": {
        "id": "WMg_-gtVlSBQ"
      }
    },
    {
      "cell_type": "code",
      "source": [
        "def getSongFades(line):\n",
        "  style = line[14]\n",
        "  fade_out = float(line[8]) - float(line[7])\n",
        "  return(style, (1, fade_out))\n",
        "\n",
        "\n",
        "fade_out = songs.map(getSongFades)"
      ],
      "metadata": {
        "id": "OmMnmOdZlYLN"
      },
      "execution_count": 180,
      "outputs": []
    },
    {
      "cell_type": "code",
      "source": [
        "# Obtiene el recuento total de cada estilo de canción y el fadeout\n",
        "fadeout_sum_rdd = fade_out.reduceByKey(lambda conteo , fadeout: (conteo[0] + fadeout[0], conteo[1] + fadeout[1]))"
      ],
      "metadata": {
        "id": "TrMPUBr2pTJR"
      },
      "execution_count": 184,
      "outputs": []
    },
    {
      "cell_type": "code",
      "source": [
        "#Cálculo de la media del tempo por estilo (songs[0]: Estilo, songs [1][1]: Tempo total por ese estilo, songs[1][0]: Conteo total de repeticiones de dicho estilo )\n",
        "media_fadeout = fadeout_sum_rdd.map(lambda songs: (songs[0], songs[1][1] / songs[1][0] if songs[1][0] != 0 else 0))\n"
      ],
      "metadata": {
        "id": "VFfwvwvkpjOr"
      },
      "execution_count": 185,
      "outputs": []
    },
    {
      "cell_type": "code",
      "source": [
        "# Devuelve el estilo con el tempo más bajo utilizando la operación min() de Python..\n",
        "highest_fadeout_style = max(media_fadeout.toLocalIterator(), key=lambda s: s[1])\n",
        "print(f'El estilo que más abusa del efecto fade out es {highest_fadeout_style[0]}, con un tiempo promedio de {highest_fadeout_style[1]} BPM.')\n"
      ],
      "metadata": {
        "colab": {
          "base_uri": "https://localhost:8080/"
        },
        "id": "0yrqUXkAq70a",
        "outputId": "793b44f2-1c5f-416b-b97d-69c6f573b0b6"
      },
      "execution_count": 186,
      "outputs": [
        {
          "output_type": "stream",
          "name": "stdout",
          "text": [
            "El estilo que más abusa del efecto fade out es qawwali, con un tiempo promedio de 778.567 BPM.\n"
          ]
        }
      ]
    },
    {
      "cell_type": "markdown",
      "source": [
        "## 5. ¿Cual es la canción más popular (hotness) de los 5 artistas más popular (hotness)?"
      ],
      "metadata": {
        "id": "OC4ogHBds7TX"
      }
    },
    {
      "cell_type": "code",
      "source": [
        "def getHotArtists(line):\n",
        "  artist_id = line[0]\n",
        "  artist_name = line[1]\n",
        "  hotness = line[2]\n",
        "\n",
        "  if hotness=='NA':\n",
        "    return (artist_id, (artist_name, 0.0))\n",
        "  return (artist_id, (artist_name, hotness))\n",
        "\n",
        "hottest_artists = artists.map(getHotArtists).sortBy(lambda el: el[1][1], ascending = False)\n",
        "top_5_artists = hottest_artists.take(5)\n",
        "top_5_artists_rdd = sc.parallelize(top_5_artists)\n"
      ],
      "metadata": {
        "id": "OHu-CaEPtQYP"
      },
      "execution_count": 193,
      "outputs": []
    },
    {
      "cell_type": "code",
      "source": [
        "print(top_5_artists)"
      ],
      "metadata": {
        "colab": {
          "base_uri": "https://localhost:8080/"
        },
        "id": "5i5QwkHGLL3e",
        "outputId": "798c58ca-fab7-4c21-e78d-d14c02fcd24a"
      },
      "execution_count": 194,
      "outputs": [
        {
          "output_type": "stream",
          "name": "stdout",
          "text": [
            "[('ARRH63Y1187FB47783', ('Kanye West', '1.082502557')), ('ARF8HTQ1187B9AE693', ('Daft Punk', '1.021255588')), ('ARTDQRC1187FB4EFD4', ('Black Eyed Peas', '1.005941966')), ('ARS54I31187FB46721', ('Taylor Swift', '0.922412443')), ('ARJ7KF01187B98D717', ('Coldplay', '0.916053228'))]\n"
          ]
        }
      ]
    },
    {
      "cell_type": "code",
      "source": [
        "def getHotSongs(line):\n",
        "  artist_id = line[4]\n",
        "  song_title = line[1]\n",
        "  hotness = line[3]\n",
        "\n",
        "  if hotness=='NA':\n",
        "    return (artist_id, (0.0, song_title))\n",
        "  return (artist_id, (float(hotness), song_title))\n",
        "\n",
        "songs_hotness = songs.map(getHotSongs).sortBy(lambda el: el[1], ascending = False)"
      ],
      "metadata": {
        "id": "h82xhaSnGFg2"
      },
      "execution_count": 196,
      "outputs": []
    },
    {
      "cell_type": "code",
      "source": [
        "song_hotness_artist= songs_hotness.join(top_5_artists_rdd)"
      ],
      "metadata": {
        "id": "eJ2ASIQ5J4hg"
      },
      "execution_count": 197,
      "outputs": []
    },
    {
      "cell_type": "code",
      "source": [
        "hottest_song_by_artist = song_hotness_artist.reduceByKey(lambda item1, item2: (max(item1[0], item2[0]), item1[1] if item1[0] > item2[0] else item2[1]))\n",
        "hottest_song_artist = hottest_song_by_artist.map(lambda item: (item[1][0][1], item[1][1])).collect()"
      ],
      "metadata": {
        "id": "DsYZfRQvRtqL"
      },
      "execution_count": 198,
      "outputs": []
    },
    {
      "cell_type": "code",
      "source": [
        "print('La canción más popular de los 5 artistas más populares son, respectivamente:')\n",
        "for i in range(0,5):\n",
        "  print(f\"\\xa0 {i+1}. '{hottest_song_artist[i][0]}' de {hottest_song_artist[i][1]}\")"
      ],
      "metadata": {
        "colab": {
          "base_uri": "https://localhost:8080/"
        },
        "id": "ZDRzRQ81TRdJ",
        "outputId": "ea0fbd1a-f88e-4be1-80fe-23e84d614a34"
      },
      "execution_count": 199,
      "outputs": [
        {
          "output_type": "stream",
          "name": "stdout",
          "text": [
            "La canción más popular de los 5 artistas más populares son, respectivamente:\n",
            "  1. 'Da Funk' de ('Daft Punk', '1.021255588')\n",
            "  2. 'One I Love' de ('Coldplay', '0.916053228')\n",
            "  3. 'The Way I Loved You' de ('Taylor Swift', '0.922412443')\n",
            "  4. 'Street Lights' de ('Kanye West', '1.082502557')\n",
            "  5. 'Let's Get It Started' de ('Black Eyed Peas', '1.005941966')\n"
          ]
        }
      ]
    },
    {
      "cell_type": "markdown",
      "source": [
        "## 6. ¿Cuál es el álbum más largo (duration) de todo el set de datos? Incluye en la respuesta el nombre del álbum y de su artista."
      ],
      "metadata": {
        "id": "ExB0QxgdUcfh"
      }
    },
    {
      "cell_type": "code",
      "source": [
        "def getSongDuration(line):\n",
        "  album_id = line[5]\n",
        "  duration = float(line[6])\n",
        "  return (album_id, duration)\n",
        "\n",
        "album_duration = songs.map(getSongDuration)"
      ],
      "metadata": {
        "id": "BVWZYUnsUf-1"
      },
      "execution_count": 206,
      "outputs": []
    },
    {
      "cell_type": "code",
      "source": [
        "album_duration_sum = album_duration.reduceByKey(lambda duration1, duration2: duration1+duration2)"
      ],
      "metadata": {
        "id": "ZPuueVtkaNSy"
      },
      "execution_count": 208,
      "outputs": []
    },
    {
      "cell_type": "code",
      "source": [],
      "metadata": {
        "id": "3HYCYGZrcRS5"
      },
      "execution_count": null,
      "outputs": []
    }
  ]
}